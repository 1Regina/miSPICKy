{
 "cells": [
  {
   "cell_type": "code",
   "execution_count": 1,
   "metadata": {},
   "outputs": [
    {
     "ename": "SyntaxError",
     "evalue": "invalid syntax (<ipython-input-1-f08f3b47cc70>, line 37)",
     "output_type": "error",
     "traceback": [
      "\u001b[1;36m  File \u001b[1;32m\"<ipython-input-1-f08f3b47cc70>\"\u001b[1;36m, line \u001b[1;32m37\u001b[0m\n\u001b[1;33m    'random forest': OneVsRestClassifier(RandomForestClassifier(n_estimators=100), n_jobs=-1)\u001b[0m\n\u001b[1;37m                  ^\u001b[0m\n\u001b[1;31mSyntaxError\u001b[0m\u001b[1;31m:\u001b[0m invalid syntax\n"
     ]
    }
   ],
   "source": [
    "from lib.data_common import (target_label, Read_and_Process_Image, \n",
    "                             Load_and_Split)\n",
    "from lib.ml_common import (Vanilla_ML_Run, Vanilla_ML_Predict, \n",
    "                           Vanilla_ML_Run_CV, Show_Confusion_Matrix,\n",
    "                           Save_Model_Data)\n",
    "\n",
    "import numpy as np\n",
    "import pandas as pd\n",
    "\n",
    "from sklearn.dummy import DummyClassifier\n",
    "from sklearn.linear_model import LogisticRegression\n",
    "from sklearn.naive_bayes import GaussianNB\n",
    "from sklearn.ensemble import RandomForestClassifier\n",
    "from sklearn.multiclass import OneVsRestClassifier\n",
    "import xgboost as xgb\n",
    "\n",
    "\n",
    "# Fix random seed for reproducibility\n",
    "seed = 128\n",
    "np.random.seed(seed)\n",
    "\n",
    "# Image size for standardisation\n",
    "image_shape = (150, 150)\n",
    "\n",
    "# Load pre-split data from training, validation and test data sets\n",
    "X_train, y_train = Load_and_Split('data/cavy_data_train.csv', image_shape)\n",
    "X_val, y_val = Load_and_Split('data/cavy_data_val.csv', image_shape)\n",
    "X_test, y_test = Load_and_Split('data/cavy_data_test.csv', image_shape)\n",
    "\n",
    "# List of selected models that will learn to predict each class against the others\n",
    "clf_list = {'dummy': OneVsRestClassifier(DummyClassifier(), n_jobs=-1),\n",
    "            'log reg': OneVsRestClassifier(LogisticRegression(multi_class='ovr', n_jobs=-1), n_jobs=-1),\n",
    "#            'knn': KNeighborsClassifier(n_neighbors=5),\n",
    "            'naive bayes': OneVsRestClassifier(GaussianNB(), n_jobs=-1)\n",
    "#            'svm': LinearSVC(),\n",
    "#            'xgboost': xgb.XGBClassifier(),\n",
    "            'random forest': OneVsRestClassifier(RandomForestClassifier(n_estimators=100), n_jobs=-1)\n",
    "            }\n",
    "\n",
    "# Train and predict using vanilla traditional models to set a baseline \n",
    "# for latter deep learning models\n",
    "clf_list = Vanilla_ML_Run(clf_list, X_train, y_train)\n",
    "predict_list = Vanilla_ML_Predict(clf_list, X_val, y_val, target_label)\n",
    "\n",
    "#[print(predict_list[k][0]) for k in predict_list.keys()]\n",
    "#[print(predict_list[k][1]) for k in predict_list.keys()]\n",
    "\n",
    "# A peek at the confusion matrices for an overview of the model \n",
    "# performances\n",
    "Show_Confusion_Matrix(predict_list['dummy'][1], target_label,\n",
    "                      clf_name=\"Dummy\")\n",
    "Show_Confusion_Matrix(predict_list['log reg'][1], target_label,\n",
    "                      clf_name=\"Logistic Regression\")\n",
    "Show_Confusion_Matrix(predict_list['naive bayes'][1], target_label,\n",
    "                      clf_name=\"Naive Bayes\")\n",
    "Show_Confusion_Matrix(predict_list['random forest'][1], target_label,\n",
    "                      clf_name=\"Random Forest\")\n",
    "Show_Confusion_Matrix(predict_list['xgboost'][1], target_label,\n",
    "                      clf_name=\"XGBoost\")\n",
    "\n",
    "# Cross validation runs for reduced list of models with good performances\n",
    "#X_train_val = np.concatenate([X_train, X_val])\n",
    "#y_train_val = np.concatenate([y_train, y_val])\n",
    "#scores = Vanilla_ML_Run_CV(clf_list, X_train_val, y_train_val, n_splits=3)\n",
    "\n",
    "# Save all models for future multiple prediction runs\n",
    "#Save_Model_Data(clf_list['dummy'], 'ovr_dummy_v2', X_test, y_test)\n",
    "#Save_Model_Data(clf_list['log reg'], 'ovr_logistic_regression_ovr_v2', \n",
    "#                    X_test, y_test)\n",
    "#Save_Model_Data(clf_list['naive bayes'], 'ovr_naive_bayes_v2', \n",
    "#                     X_test, y_test)\n",
    "#Save_Model_Data(clf_list['random forest'], 'ovr_random_foreset_n_est-100_v2', \n",
    "#                    X_test, y_test)\n",
    "#Save_Model_Data(clf_list['xgboost'], 'xgboost_v1',  X_test, y_test)"
   ]
  },
  {
   "cell_type": "code",
   "execution_count": null,
   "metadata": {},
   "outputs": [],
   "source": []
  }
 ],
 "metadata": {
  "kernelspec": {
   "display_name": "Spark",
   "language": "python",
   "name": "spark"
  },
  "language_info": {
   "codemirror_mode": {
    "name": "ipython",
    "version": 3
   },
   "file_extension": ".py",
   "mimetype": "text/x-python",
   "name": "python",
   "nbconvert_exporter": "python",
   "pygments_lexer": "ipython3",
   "version": "3.7.4"
  }
 },
 "nbformat": 4,
 "nbformat_minor": 2
}
