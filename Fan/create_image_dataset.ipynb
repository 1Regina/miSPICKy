{
 "cells": [
  {
   "cell_type": "code",
   "execution_count": null,
   "metadata": {},
   "outputs": [],
   "source": [
    "import pandas as pd\n",
    "import os\n",
    "from sklearn.model_selection import train_test_split\n",
    "\n",
    "\n",
    "def Save_Data(X, y, filename):\n",
    "    \"\"\"\n",
    "    Saving dataset variants raw, training, test, validation)\n",
    "    \"\"\"\n",
    "    df = pd.DataFrame({'image_path': X, 'breed': y})\n",
    "    return df.to_csv(filename, index=False)\n",
    "\n",
    "\n",
    "seed = 42\n",
    "image_folders = ['American', 'Abyssinian', 'Skinny']\n",
    "image_path = 'images'\n",
    "X, y = [], []\n",
    "\n",
    "print(\" > Creating datasets from images...\")\n",
    "for folder_name in image_folders:\n",
    "    image_list_path = os.path.join(image_path, folder_name)\n",
    "    for path, dirs, files in os.walk(image_list_path):\n",
    "        for filename in files:\n",
    "            X.append(os.path.join(path,filename))\n",
    "            y.append(folder_name)\n",
    "\n",
    "# Split for the test dataset\n",
    "X_train_val, X_test, y_train_val, y_test = train_test_split(X, y, \n",
    "                                                            test_size=0.2, \n",
    "                                                            shuffle=True, \n",
    "                                                            stratify= y, \n",
    "                                                            random_state=seed)\n",
    "\n",
    "# Split for the training and validation datasets\n",
    "X_train, X_val, y_train, y_val = train_test_split(X_train_val, \n",
    "                                                  y_train_val, \n",
    "                                                  test_size=0.2, \n",
    "                                                  shuffle=True, \n",
    "                                                  stratify= y_train_val, \n",
    "                                                  random_state=seed)\n",
    "\n",
    "Save_Data(X, y, 'data/cavy_data_raw.csv')\n",
    "Save_Data(X_train, y_train, 'data/cavy_data_train.csv')\n",
    "Save_Data(X_val, y_val, 'data/cavy_data_val.csv')\n",
    "Save_Data(X_test, y_test, 'data/cavy_data_test.csv')\n",
    "\n",
    "print(\" > done!\")"
   ]
  }
 ],
 "metadata": {
  "kernelspec": {
   "display_name": "Spark",
   "language": "python",
   "name": "spark"
  },
  "language_info": {
   "codemirror_mode": {
    "name": "ipython",
    "version": 3
   },
   "file_extension": ".py",
   "mimetype": "text/x-python",
   "name": "python",
   "nbconvert_exporter": "python",
   "pygments_lexer": "ipython3",
   "version": "3.7.4"
  }
 },
 "nbformat": 4,
 "nbformat_minor": 2
}
