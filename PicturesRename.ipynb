{
 "cells": [
  {
   "cell_type": "code",
   "execution_count": 4,
   "metadata": {},
   "outputs": [],
   "source": [
    "# Rename all jpg files in Clean folder\n",
    "  \n",
    "# importing os module \n",
    "import os \n",
    "  \n",
    "# Function to rename multiple files \n",
    "def main(): \n",
    "    i = 0\n",
    "      \n",
    "    for filename in os.listdir(\"Clean\"): \n",
    "        dst =\"CleanRoom\" + str(i) + \".jpg\"\n",
    "        #src ='Clean'+ filename \n",
    "        #dst ='Clean'+ dst \n",
    "          \n",
    "        # rename() function will \n",
    "        # rename all the files \n",
    "        os.rename(\"C:\\\\Users\\\\regina\\\\Desktop\\\\Metis\\\\Metis Projects\\\\miSPICKy\\\\downloads\\\\Clean\\\\\"+filename,\n",
    "                 \"C:\\\\Users\\\\regina\\\\Desktop\\\\Metis\\\\Metis Projects\\\\miSPICKy\\\\downloads\\\\Clean\\\\\"+dst) \n",
    "        i += 1\n",
    "\n",
    "# Driver Code \n",
    "if __name__ == '__main__': \n",
    "      \n",
    "    # Calling main() function \n",
    "    main() "
   ]
  },
  {
   "cell_type": "code",
   "execution_count": 6,
   "metadata": {},
   "outputs": [],
   "source": [
    "# Rename all jpg files in Messy folder\n",
    "  \n",
    "# importing os module \n",
    "import os \n",
    "  \n",
    "# Function to rename multiple files \n",
    "def main(): \n",
    "    i = 0\n",
    "      \n",
    "    for filename in os.listdir(\"Messy\"): \n",
    "        dst =\"MessyRoom\" + str(i) + \".jpg\"\n",
    "        #src ='Clean'+ filename \n",
    "        #dst ='Clean'+ dst \n",
    "          \n",
    "        # rename() function will \n",
    "        # rename all the files \n",
    "        os.rename(\"C:\\\\Users\\\\regina\\\\Desktop\\\\Metis\\\\Metis Projects\\\\miSPICKy\\\\downloads\\\\Messy\\\\\"+filename,\n",
    "                 \"C:\\\\Users\\\\regina\\\\Desktop\\\\Metis\\\\Metis Projects\\\\miSPICKy\\\\downloads\\\\Messy\\\\\"+dst) \n",
    "        i += 1\n",
    "\n",
    "# Driver Code \n",
    "if __name__ == '__main__': \n",
    "      \n",
    "    # Calling main() function \n",
    "    main() "
   ]
  },
  {
   "cell_type": "code",
   "execution_count": null,
   "metadata": {},
   "outputs": [],
   "source": []
  }
 ],
 "metadata": {
  "kernelspec": {
   "display_name": "Python 3",
   "language": "python",
   "name": "python3"
  },
  "language_info": {
   "codemirror_mode": {
    "name": "ipython",
    "version": 3
   },
   "file_extension": ".py",
   "mimetype": "text/x-python",
   "name": "python",
   "nbconvert_exporter": "python",
   "pygments_lexer": "ipython3",
   "version": "3.7.4"
  }
 },
 "nbformat": 4,
 "nbformat_minor": 2
}
