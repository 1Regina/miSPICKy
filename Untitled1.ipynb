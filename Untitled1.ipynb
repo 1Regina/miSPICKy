{
 "cells": [
  {
   "cell_type": "code",
   "execution_count": 1,
   "metadata": {},
   "outputs": [
    {
     "name": "stderr",
     "output_type": "stream",
     "text": [
      "c:\\users\\regina\\appdata\\local\\programs\\python\\python37\\lib\\site-packages\\ipykernel_launcher.py:17: UserWarning: Matplotlib is currently using module://ipykernel.pylab.backend_inline, which is a non-GUI backend, so cannot show the figure.\n"
     ]
    }
   ],
   "source": [
    "import pandas as pd\n",
    "import matplotlib.pyplot as plt\n",
    "import seaborn as sns\n",
    "\n",
    "sns.set(palette='Paired')\n",
    "\n",
    "df = pd.read_csv('pie.csv')\n",
    "\n",
    "#df = df.set_index('Machine_id')  comment this\n",
    "\n",
    "for ind in df.index:\n",
    "     fig, ax = plt.subplots(1,1)\n",
    "     fig.set_size_inches(5,5)\n",
    "     df.iloc[ind].plot(kind='pie', ax=ax, autopct='%1.1f%%')\n",
    "     ax.set_ylabel('')\n",
    "     ax.set_xlabel('')\n",
    "     fig.show()   #plot/show final results"
   ]
  },
  {
   "cell_type": "code",
   "execution_count": 2,
   "metadata": {},
   "outputs": [
    {
     "ename": "NameError",
     "evalue": "name 'KNeighborsClassifier' is not defined",
     "output_type": "error",
     "traceback": [
      "\u001b[1;31m---------------------------------------------------------------------------\u001b[0m",
      "\u001b[1;31mNameError\u001b[0m                                 Traceback (most recent call last)",
      "\u001b[1;32m<ipython-input-2-9f19d7f9af7d>\u001b[0m in \u001b[0;36m<module>\u001b[1;34m\u001b[0m\n\u001b[0;32m      6\u001b[0m \u001b[1;33m\u001b[0m\u001b[0m\n\u001b[0;32m      7\u001b[0m models = {\n\u001b[1;32m----> 8\u001b[1;33m         \u001b[1;34m\"knn\"\u001b[0m\u001b[1;33m:\u001b[0m \u001b[0mKNeighborsClassifier\u001b[0m\u001b[1;33m(\u001b[0m\u001b[0mn_neighbors\u001b[0m\u001b[1;33m=\u001b[0m\u001b[1;36m1\u001b[0m\u001b[1;33m)\u001b[0m\u001b[1;33m,\u001b[0m\u001b[1;33m\u001b[0m\u001b[1;33m\u001b[0m\u001b[0m\n\u001b[0m\u001b[0;32m      9\u001b[0m         \u001b[1;34m\"naive_bayes\"\u001b[0m\u001b[1;33m:\u001b[0m \u001b[0mGaussianNB\u001b[0m\u001b[1;33m(\u001b[0m\u001b[1;33m)\u001b[0m\u001b[1;33m,\u001b[0m\u001b[1;33m\u001b[0m\u001b[1;33m\u001b[0m\u001b[0m\n\u001b[0;32m     10\u001b[0m         \u001b[1;34m\"logit\"\u001b[0m\u001b[1;33m:\u001b[0m \u001b[0mLogisticRegression\u001b[0m\u001b[1;33m(\u001b[0m\u001b[0msolver\u001b[0m\u001b[1;33m=\u001b[0m\u001b[1;34m\"lbfgs\"\u001b[0m\u001b[1;33m,\u001b[0m \u001b[0mmulti_class\u001b[0m\u001b[1;33m=\u001b[0m\u001b[1;34m\"auto\"\u001b[0m\u001b[1;33m)\u001b[0m\u001b[1;33m,\u001b[0m\u001b[1;33m\u001b[0m\u001b[1;33m\u001b[0m\u001b[0m\n",
      "\u001b[1;31mNameError\u001b[0m: name 'KNeighborsClassifier' is not defined"
     ]
    }
   ],
   "source": [
    "\n",
    "import pandas as pd\n",
    "import matplotlib.pyplot as plt\n",
    "import seaborn as sns\n",
    "\n",
    "\n",
    "\n",
    "models = {\n",
    "\t\"knn\": \"KNeighborsClassifier\",\n",
    "\t\"naive_bayes\": \"GaussianNB\",\n",
    "\t\"logit\": \"LogisticRegression\",\n",
    "\t\"svm\": \"SVC\",\n",
    "\t\"decision_tree\": \"DecisionTreeClassifier\",\n",
    "\t\"random_forest\": \"RandomForestClassifier\",\n",
    "\t\"mlp\": \"MLPClassifier\"\n",
    "# \t\"xgb\": XGBClassifier()    \n",
    "}\n",
    "# plot the prediction probability for each category\n",
    "plt.figure(figsize = [10,10])   # [width, height]\n",
    "\n",
    "x = [ lb.classes_[0], lb.classes_[1], lb.classes_[2] ]\n",
    "y = [ preds[0][0], preds[0][1], preds[0][2] ]\n",
    "plt.barh(x, y, color='orange')\n",
    "\n",
    "ticks_x = np.linspace(0, 1, 11)   # (start, end, number of ticks)\n",
    "plt.xticks(ticks_x, fontsize=10, family='fantasy', color='black')\n",
    "plt.yticks( size=15, color='black' )\n",
    "for i, v in enumerate(y):\n",
    "    plt.text(v, i, \"  \"+str(v.round(2)), color='grey', va='center', fontweight='bold')\n",
    "\n",
    "plt.title('Prediction Probability CNN Model 2', family='serif', fontsize=15, style='italic', weight='bold', color='olive', loc='center', rotation=0)\n",
    "plt.xlabel('Probability', fontsize=12, weight='bold', color='blue')\n",
    "plt.ylabel('Category', fontsize=12, weight='bold', color='navy')"
   ]
  },
  {
   "cell_type": "code",
   "execution_count": null,
   "metadata": {},
   "outputs": [],
   "source": []
  }
 ],
 "metadata": {
  "kernelspec": {
   "display_name": "Python 3",
   "language": "python",
   "name": "python3"
  },
  "language_info": {
   "codemirror_mode": {
    "name": "ipython",
    "version": 3
   },
   "file_extension": ".py",
   "mimetype": "text/x-python",
   "name": "python",
   "nbconvert_exporter": "python",
   "pygments_lexer": "ipython3",
   "version": "3.7.4"
  }
 },
 "nbformat": 4,
 "nbformat_minor": 2
}
