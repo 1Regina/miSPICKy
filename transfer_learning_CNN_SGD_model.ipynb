{
 "cells": [
  {
   "cell_type": "code",
   "execution_count": null,
   "metadata": {},
   "outputs": [],
   "source": [
    "# goal:\n",
    "# To do transfer learning using pre-trained model VGG16\n",
    "\n",
    "# The lower level featured learned by VGG16 on imagenet are still applicable to other problems with natural images. \n",
    "# If we can preserve the lower-level features, we can just train a new model on those features.\n",
    "# That is, we load VGG16 model, snip off last layer, and replace it with our own final layers."
   ]
  },
  {
   "cell_type": "code",
   "execution_count": 1,
   "metadata": {},
   "outputs": [
    {
     "name": "stderr",
     "output_type": "stream",
     "text": [
      "Using TensorFlow backend.\n",
      "C:\\Users\\regina\\Desktop\\Metis\\Metis Projects\\Spark\\lib\\site-packages\\tensorflow\\python\\framework\\dtypes.py:516: FutureWarning: Passing (type, 1) or '1type' as a synonym of type is deprecated; in a future version of numpy, it will be understood as (type, (1,)) / '(1,)type'.\n",
      "  _np_qint8 = np.dtype([(\"qint8\", np.int8, 1)])\n",
      "C:\\Users\\regina\\Desktop\\Metis\\Metis Projects\\Spark\\lib\\site-packages\\tensorflow\\python\\framework\\dtypes.py:517: FutureWarning: Passing (type, 1) or '1type' as a synonym of type is deprecated; in a future version of numpy, it will be understood as (type, (1,)) / '(1,)type'.\n",
      "  _np_quint8 = np.dtype([(\"quint8\", np.uint8, 1)])\n",
      "C:\\Users\\regina\\Desktop\\Metis\\Metis Projects\\Spark\\lib\\site-packages\\tensorflow\\python\\framework\\dtypes.py:518: FutureWarning: Passing (type, 1) or '1type' as a synonym of type is deprecated; in a future version of numpy, it will be understood as (type, (1,)) / '(1,)type'.\n",
      "  _np_qint16 = np.dtype([(\"qint16\", np.int16, 1)])\n",
      "C:\\Users\\regina\\Desktop\\Metis\\Metis Projects\\Spark\\lib\\site-packages\\tensorflow\\python\\framework\\dtypes.py:519: FutureWarning: Passing (type, 1) or '1type' as a synonym of type is deprecated; in a future version of numpy, it will be understood as (type, (1,)) / '(1,)type'.\n",
      "  _np_quint16 = np.dtype([(\"quint16\", np.uint16, 1)])\n",
      "C:\\Users\\regina\\Desktop\\Metis\\Metis Projects\\Spark\\lib\\site-packages\\tensorflow\\python\\framework\\dtypes.py:520: FutureWarning: Passing (type, 1) or '1type' as a synonym of type is deprecated; in a future version of numpy, it will be understood as (type, (1,)) / '(1,)type'.\n",
      "  _np_qint32 = np.dtype([(\"qint32\", np.int32, 1)])\n",
      "C:\\Users\\regina\\Desktop\\Metis\\Metis Projects\\Spark\\lib\\site-packages\\tensorflow\\python\\framework\\dtypes.py:525: FutureWarning: Passing (type, 1) or '1type' as a synonym of type is deprecated; in a future version of numpy, it will be understood as (type, (1,)) / '(1,)type'.\n",
      "  np_resource = np.dtype([(\"resource\", np.ubyte, 1)])\n",
      "C:\\Users\\regina\\Desktop\\Metis\\Metis Projects\\Spark\\lib\\site-packages\\tensorboard\\compat\\tensorflow_stub\\dtypes.py:541: FutureWarning: Passing (type, 1) or '1type' as a synonym of type is deprecated; in a future version of numpy, it will be understood as (type, (1,)) / '(1,)type'.\n",
      "  _np_qint8 = np.dtype([(\"qint8\", np.int8, 1)])\n",
      "C:\\Users\\regina\\Desktop\\Metis\\Metis Projects\\Spark\\lib\\site-packages\\tensorboard\\compat\\tensorflow_stub\\dtypes.py:542: FutureWarning: Passing (type, 1) or '1type' as a synonym of type is deprecated; in a future version of numpy, it will be understood as (type, (1,)) / '(1,)type'.\n",
      "  _np_quint8 = np.dtype([(\"quint8\", np.uint8, 1)])\n",
      "C:\\Users\\regina\\Desktop\\Metis\\Metis Projects\\Spark\\lib\\site-packages\\tensorboard\\compat\\tensorflow_stub\\dtypes.py:543: FutureWarning: Passing (type, 1) or '1type' as a synonym of type is deprecated; in a future version of numpy, it will be understood as (type, (1,)) / '(1,)type'.\n",
      "  _np_qint16 = np.dtype([(\"qint16\", np.int16, 1)])\n",
      "C:\\Users\\regina\\Desktop\\Metis\\Metis Projects\\Spark\\lib\\site-packages\\tensorboard\\compat\\tensorflow_stub\\dtypes.py:544: FutureWarning: Passing (type, 1) or '1type' as a synonym of type is deprecated; in a future version of numpy, it will be understood as (type, (1,)) / '(1,)type'.\n",
      "  _np_quint16 = np.dtype([(\"quint16\", np.uint16, 1)])\n",
      "C:\\Users\\regina\\Desktop\\Metis\\Metis Projects\\Spark\\lib\\site-packages\\tensorboard\\compat\\tensorflow_stub\\dtypes.py:545: FutureWarning: Passing (type, 1) or '1type' as a synonym of type is deprecated; in a future version of numpy, it will be understood as (type, (1,)) / '(1,)type'.\n",
      "  _np_qint32 = np.dtype([(\"qint32\", np.int32, 1)])\n",
      "C:\\Users\\regina\\Desktop\\Metis\\Metis Projects\\Spark\\lib\\site-packages\\tensorboard\\compat\\tensorflow_stub\\dtypes.py:550: FutureWarning: Passing (type, 1) or '1type' as a synonym of type is deprecated; in a future version of numpy, it will be understood as (type, (1,)) / '(1,)type'.\n",
      "  np_resource = np.dtype([(\"resource\", np.ubyte, 1)])\n"
     ]
    }
   ],
   "source": [
    "# Import libraries and packages\n",
    "import matplotlib as plt\n",
    "import matplotlib.pyplot as plt\n",
    "plt.style.use('ggplot')\n",
    "%matplotlib inline\n",
    "from sklearn.preprocessing import LabelBinarizer\n",
    "from sklearn.model_selection import train_test_split\n",
    "from sklearn.metrics import classification_report\n",
    "from keras.models import Sequential\n",
    "from keras.layers.core import Dense\n",
    "from keras.optimizers import SGD\n",
    "from imutils import paths\n",
    "import matplotlib.pyplot as plt\n",
    "import numpy as np\n",
    "import argparse\n",
    "import random\n",
    "import pickle\n",
    "import cv2\n",
    "import os\n",
    "import warnings\n",
    "warnings.filterwarnings(\"ignore\")"
   ]
  },
  {
   "cell_type": "markdown",
   "metadata": {},
   "source": [
    "## Load data from disk"
   ]
  },
  {
   "cell_type": "code",
   "execution_count": 2,
   "metadata": {},
   "outputs": [
    {
     "name": "stdout",
     "output_type": "stream",
     "text": [
      "[INFO] loading images...\n",
      "done\n"
     ]
    }
   ],
   "source": [
    "# initialize the data and labels\n",
    "print(\"[INFO] loading images...\")\n",
    "images = []\n",
    "labels = []\n",
    "\n",
    "# grab the image paths and randomly shuffle them\n",
    "imagePaths = sorted(list(paths.list_images('dataset')))\n",
    "random.seed(42)\n",
    "random.shuffle(imagePaths)\n",
    "\n",
    "# loop over the input images\n",
    "for imagePath in imagePaths:\n",
    "    # load the image, resize it to 64x64 pixels (the required input spatial dimensions of SmallVGGNet), \n",
    "    # and store the image in the data list\n",
    "    image = cv2.imread(imagePath)\n",
    "    image = cv2.resize(image, (64, 64))   # we are not flattening our data for neural network, because it is convolutional\n",
    "    images.append(image)\n",
    "\n",
    "    # extract the class label from the image path and update the labels list\n",
    "    label = imagePath.split(os.path.sep)[-2]\n",
    "    labels.append(label)\n",
    "\n",
    "# scale the raw pixel intensities to the range [0, 1]\n",
    "images = np.array(images, dtype=\"float\") / 255.0\n",
    "labels = np.array(labels)\n",
    "\n",
    "print('done')"
   ]
  },
  {
   "cell_type": "markdown",
   "metadata": {},
   "source": [
    "## Split data for training and validation"
   ]
  },
  {
   "cell_type": "code",
   "execution_count": 3,
   "metadata": {},
   "outputs": [],
   "source": [
    "# partition the data into 75% training and 25% validation\n",
    "(trainX, testX, trainY, testY) = train_test_split(images, labels, test_size=0.25, random_state=42)"
   ]
  },
  {
   "cell_type": "code",
   "execution_count": 4,
   "metadata": {},
   "outputs": [
    {
     "data": {
      "text/plain": [
       "array([[[[0.35686275, 0.46666667, 0.60392157],\n",
       "         [0.43137255, 0.56470588, 0.70588235],\n",
       "         [0.28235294, 0.38431373, 0.5254902 ],\n",
       "         ...,\n",
       "         [0.16470588, 0.20392157, 0.2745098 ],\n",
       "         [0.23137255, 0.28627451, 0.37254902],\n",
       "         [0.22745098, 0.29411765, 0.39607843]],\n",
       "\n",
       "        [[0.37647059, 0.49411765, 0.63137255],\n",
       "         [0.41960784, 0.54901961, 0.69019608],\n",
       "         [0.37254902, 0.47843137, 0.62352941],\n",
       "         ...,\n",
       "         [0.16078431, 0.20784314, 0.29019608],\n",
       "         [0.15294118, 0.20784314, 0.29411765],\n",
       "         [0.19607843, 0.25098039, 0.36078431]],\n",
       "\n",
       "        [[0.41568627, 0.5254902 , 0.66666667],\n",
       "         [0.4       , 0.51372549, 0.65882353],\n",
       "         [0.34509804, 0.44313725, 0.57254902],\n",
       "         ...,\n",
       "         [0.17647059, 0.23137255, 0.29411765],\n",
       "         [0.22352941, 0.28627451, 0.37647059],\n",
       "         [0.22745098, 0.28627451, 0.38823529]],\n",
       "\n",
       "        ...,\n",
       "\n",
       "        [[0.30588235, 0.43137255, 0.57254902],\n",
       "         [0.31372549, 0.42352941, 0.57254902],\n",
       "         [0.27058824, 0.37647059, 0.51764706],\n",
       "         ...,\n",
       "         [0.50196078, 0.75686275, 0.83137255],\n",
       "         [0.51372549, 0.77647059, 0.83529412],\n",
       "         [0.52941176, 0.79607843, 0.87058824]],\n",
       "\n",
       "        [[0.3254902 , 0.45098039, 0.59215686],\n",
       "         [0.34509804, 0.45882353, 0.60392157],\n",
       "         [0.27843137, 0.38823529, 0.53333333],\n",
       "         ...,\n",
       "         [0.50980392, 0.76862745, 0.83921569],\n",
       "         [0.52156863, 0.78039216, 0.85490196],\n",
       "         [0.49803922, 0.76862745, 0.82745098]],\n",
       "\n",
       "        [[0.3254902 , 0.45098039, 0.59215686],\n",
       "         [0.30588235, 0.41960784, 0.56470588],\n",
       "         [0.23137255, 0.34117647, 0.48627451],\n",
       "         ...,\n",
       "         [0.50196078, 0.76470588, 0.81960784],\n",
       "         [0.51764706, 0.78039216, 0.83921569],\n",
       "         [0.52156863, 0.78431373, 0.86666667]]],\n",
       "\n",
       "\n",
       "       [[[0.23137255, 0.56862745, 0.86666667],\n",
       "         [0.23529412, 0.58039216, 0.87843137],\n",
       "         [0.23137255, 0.59215686, 0.89411765],\n",
       "         ...,\n",
       "         [0.01960784, 0.14117647, 0.30980392],\n",
       "         [0.05098039, 0.1254902 , 0.2745098 ],\n",
       "         [0.1254902 , 0.55686275, 0.79607843]],\n",
       "\n",
       "        [[0.21960784, 0.56470588, 0.8627451 ],\n",
       "         [0.22745098, 0.58039216, 0.88235294],\n",
       "         [0.22352941, 0.59607843, 0.89411765],\n",
       "         ...,\n",
       "         [0.04705882, 0.16470588, 0.31372549],\n",
       "         [0.00784314, 0.15294118, 0.27058824],\n",
       "         [0.14509804, 0.56470588, 0.81568627]],\n",
       "\n",
       "        [[0.22745098, 0.56470588, 0.8627451 ],\n",
       "         [0.22745098, 0.58039216, 0.88235294],\n",
       "         [0.23529412, 0.6       , 0.90980392],\n",
       "         ...,\n",
       "         [0.0745098 , 0.16078431, 0.29803922],\n",
       "         [0.27058824, 0.51372549, 0.59607843],\n",
       "         [0.16470588, 0.58039216, 0.82352941]],\n",
       "\n",
       "        ...,\n",
       "\n",
       "        [[0.01960784, 0.17647059, 0.38039216],\n",
       "         [0.03137255, 0.18039216, 0.37647059],\n",
       "         [0.01176471, 0.17254902, 0.36470588],\n",
       "         ...,\n",
       "         [0.39215686, 0.49411765, 0.60392157],\n",
       "         [0.38039216, 0.50588235, 0.63137255],\n",
       "         [0.32941176, 0.43921569, 0.57647059]],\n",
       "\n",
       "        [[0.01960784, 0.16862745, 0.36470588],\n",
       "         [0.01176471, 0.16862745, 0.35294118],\n",
       "         [0.02352941, 0.17647059, 0.38039216],\n",
       "         ...,\n",
       "         [0.4       , 0.49803922, 0.62352941],\n",
       "         [0.4       , 0.52941176, 0.65098039],\n",
       "         [0.34117647, 0.47058824, 0.60784314]],\n",
       "\n",
       "        [[0.01568627, 0.16470588, 0.35686275],\n",
       "         [0.00784314, 0.16078431, 0.36470588],\n",
       "         [0.01568627, 0.16862745, 0.37254902],\n",
       "         ...,\n",
       "         [0.41960784, 0.51764706, 0.64313725],\n",
       "         [0.4       , 0.50980392, 0.63529412],\n",
       "         [0.3372549 , 0.47058824, 0.60784314]]],\n",
       "\n",
       "\n",
       "       [[[0.68627451, 0.65490196, 0.81568627],\n",
       "         [0.62745098, 0.59607843, 0.77647059],\n",
       "         [0.52156863, 0.50588235, 0.7372549 ],\n",
       "         ...,\n",
       "         [0.90196078, 0.90980392, 0.90980392],\n",
       "         [0.84313725, 0.88627451, 0.88235294],\n",
       "         [0.77647059, 0.87843137, 0.90196078]],\n",
       "\n",
       "        [[0.67058824, 0.63529412, 0.80392157],\n",
       "         [0.63529412, 0.6       , 0.78823529],\n",
       "         [0.50980392, 0.48627451, 0.71764706],\n",
       "         ...,\n",
       "         [0.90196078, 0.90980392, 0.90980392],\n",
       "         [0.83529412, 0.88235294, 0.8745098 ],\n",
       "         [0.81176471, 0.89411765, 0.89803922]],\n",
       "\n",
       "        [[0.6745098 , 0.63137255, 0.81176471],\n",
       "         [0.63529412, 0.59215686, 0.78823529],\n",
       "         [0.6627451 , 0.62745098, 0.86666667],\n",
       "         ...,\n",
       "         [0.90196078, 0.90980392, 0.90980392],\n",
       "         [0.83529412, 0.87843137, 0.87058824],\n",
       "         [0.83529412, 0.91764706, 0.90980392]],\n",
       "\n",
       "        ...,\n",
       "\n",
       "        [[0.08627451, 0.12941176, 0.16078431],\n",
       "         [0.10588235, 0.12941176, 0.16078431],\n",
       "         [0.11764706, 0.13333333, 0.15294118],\n",
       "         ...,\n",
       "         [0.56470588, 0.67843137, 0.82352941],\n",
       "         [0.42745098, 0.54901961, 0.7254902 ],\n",
       "         [0.40784314, 0.54117647, 0.70980392]],\n",
       "\n",
       "        [[0.10196078, 0.14117647, 0.18039216],\n",
       "         [0.09411765, 0.13333333, 0.17254902],\n",
       "         [0.10588235, 0.1372549 , 0.16470588],\n",
       "         ...,\n",
       "         [0.61176471, 0.71764706, 0.8627451 ],\n",
       "         [0.46666667, 0.58431373, 0.74509804],\n",
       "         [0.41568627, 0.5372549 , 0.71372549]],\n",
       "\n",
       "        [[0.10980392, 0.14901961, 0.19215686],\n",
       "         [0.09803922, 0.1372549 , 0.17647059],\n",
       "         [0.10588235, 0.1372549 , 0.16470588],\n",
       "         ...,\n",
       "         [0.64705882, 0.75686275, 0.89411765],\n",
       "         [0.54117647, 0.65882353, 0.81960784],\n",
       "         [0.39607843, 0.52941176, 0.70588235]]],\n",
       "\n",
       "\n",
       "       ...,\n",
       "\n",
       "\n",
       "       [[[0.1372549 , 0.1254902 , 0.13333333],\n",
       "         [0.17254902, 0.16078431, 0.16862745],\n",
       "         [0.16862745, 0.15686275, 0.16470588],\n",
       "         ...,\n",
       "         [0.16862745, 0.15686275, 0.16470588],\n",
       "         [0.09411765, 0.08235294, 0.09019608],\n",
       "         [0.10588235, 0.09411765, 0.10196078]],\n",
       "\n",
       "        [[0.15294118, 0.14117647, 0.14901961],\n",
       "         [0.16862745, 0.15686275, 0.16470588],\n",
       "         [0.17254902, 0.16078431, 0.16862745],\n",
       "         ...,\n",
       "         [0.23137255, 0.21960784, 0.22745098],\n",
       "         [0.16470588, 0.15294118, 0.16078431],\n",
       "         [0.15294118, 0.14117647, 0.14901961]],\n",
       "\n",
       "        [[0.15294118, 0.14117647, 0.14901961],\n",
       "         [0.09411765, 0.08235294, 0.09019608],\n",
       "         [0.14117647, 0.12941176, 0.1372549 ],\n",
       "         ...,\n",
       "         [0.16862745, 0.16078431, 0.16470588],\n",
       "         [0.16078431, 0.14901961, 0.15686275],\n",
       "         [0.19215686, 0.18039216, 0.18823529]],\n",
       "\n",
       "        ...,\n",
       "\n",
       "        [[0.01176471, 0.01176471, 0.01176471],\n",
       "         [0.01960784, 0.01960784, 0.01960784],\n",
       "         [0.01568627, 0.01568627, 0.01568627],\n",
       "         ...,\n",
       "         [0.06666667, 0.0745098 , 0.10588235],\n",
       "         [0.01960784, 0.02352941, 0.05098039],\n",
       "         [0.03921569, 0.04705882, 0.07843137]],\n",
       "\n",
       "        [[0.00784314, 0.00784314, 0.00784314],\n",
       "         [0.01568627, 0.01568627, 0.01568627],\n",
       "         [0.01176471, 0.01176471, 0.01176471],\n",
       "         ...,\n",
       "         [0.04705882, 0.05098039, 0.08235294],\n",
       "         [0.01176471, 0.01568627, 0.04313725],\n",
       "         [0.02352941, 0.02745098, 0.0627451 ]],\n",
       "\n",
       "        [[0.        , 0.        , 0.        ],\n",
       "         [0.01176471, 0.01176471, 0.01176471],\n",
       "         [0.01176471, 0.01176471, 0.01176471],\n",
       "         ...,\n",
       "         [0.03529412, 0.04313725, 0.0745098 ],\n",
       "         [0.01176471, 0.01960784, 0.05098039],\n",
       "         [0.03529412, 0.04313725, 0.0745098 ]]],\n",
       "\n",
       "\n",
       "       [[[0.95686275, 0.96078431, 0.94901961],\n",
       "         [0.98039216, 0.97647059, 0.98431373],\n",
       "         [0.98431373, 0.98039216, 0.99607843],\n",
       "         ...,\n",
       "         [0.26666667, 0.34509804, 0.43137255],\n",
       "         [0.18431373, 0.22352941, 0.2627451 ],\n",
       "         [0.20392157, 0.23137255, 0.2627451 ]],\n",
       "\n",
       "        [[0.97647059, 0.98039216, 0.97647059],\n",
       "         [0.97254902, 0.96862745, 0.97647059],\n",
       "         [0.98431373, 0.98039216, 0.99607843],\n",
       "         ...,\n",
       "         [0.15294118, 0.22745098, 0.30980392],\n",
       "         [0.16862745, 0.23529412, 0.3254902 ],\n",
       "         [0.19607843, 0.26666667, 0.34901961]],\n",
       "\n",
       "        [[0.99607843, 0.99607843, 0.99607843],\n",
       "         [0.96470588, 0.96078431, 0.97647059],\n",
       "         [0.98431373, 0.97647059, 1.        ],\n",
       "         ...,\n",
       "         [0.20784314, 0.27843137, 0.35686275],\n",
       "         [0.14117647, 0.20392157, 0.27843137],\n",
       "         [0.29803922, 0.35686275, 0.42745098]],\n",
       "\n",
       "        ...,\n",
       "\n",
       "        [[0.88235294, 0.93333333, 0.95686275],\n",
       "         [0.89803922, 0.94509804, 0.96862745],\n",
       "         [0.90196078, 0.94117647, 0.96862745],\n",
       "         ...,\n",
       "         [0.92941176, 0.90196078, 0.9254902 ],\n",
       "         [0.9372549 , 0.91764706, 0.9254902 ],\n",
       "         [0.92941176, 0.91764706, 0.9254902 ]],\n",
       "\n",
       "        [[0.8627451 , 0.92156863, 0.94509804],\n",
       "         [0.8745098 , 0.92941176, 0.95686275],\n",
       "         [0.90196078, 0.94117647, 0.96862745],\n",
       "         ...,\n",
       "         [0.91372549, 0.89019608, 0.92156863],\n",
       "         [0.96862745, 0.94901961, 0.95686275],\n",
       "         [0.96078431, 0.94901961, 0.95686275]],\n",
       "\n",
       "        [[0.84705882, 0.90980392, 0.94509804],\n",
       "         [0.87058824, 0.92941176, 0.96470588],\n",
       "         [0.87843137, 0.91764706, 0.95686275],\n",
       "         ...,\n",
       "         [0.88235294, 0.86666667, 0.89803922],\n",
       "         [0.94901961, 0.9372549 , 0.94509804],\n",
       "         [0.93333333, 0.92156863, 0.92941176]]],\n",
       "\n",
       "\n",
       "       [[[0.0627451 , 0.09411765, 0.18431373],\n",
       "         [0.14117647, 0.23921569, 0.36862745],\n",
       "         [0.01960784, 0.1372549 , 0.22352941],\n",
       "         ...,\n",
       "         [0.64705882, 0.70980392, 0.96470588],\n",
       "         [0.84313725, 0.88627451, 0.99607843],\n",
       "         [0.26666667, 0.31372549, 0.38431373]],\n",
       "\n",
       "        [[0.09019608, 0.15686275, 0.29411765],\n",
       "         [0.2745098 , 0.35686275, 0.49019608],\n",
       "         [0.23137255, 0.27843137, 0.4       ],\n",
       "         ...,\n",
       "         [0.64705882, 0.76078431, 0.98039216],\n",
       "         [0.84705882, 0.90588235, 0.99607843],\n",
       "         [0.25490196, 0.30980392, 0.38431373]],\n",
       "\n",
       "        [[0.08235294, 0.23137255, 0.4       ],\n",
       "         [0.27058824, 0.36078431, 0.47843137],\n",
       "         [0.24313725, 0.30588235, 0.42745098],\n",
       "         ...,\n",
       "         [0.66666667, 0.80392157, 1.        ],\n",
       "         [0.85882353, 0.92941176, 0.99607843],\n",
       "         [0.23137255, 0.29411765, 0.36470588]],\n",
       "\n",
       "        ...,\n",
       "\n",
       "        [[0.18039216, 0.27058824, 0.4       ],\n",
       "         [0.18823529, 0.2745098 , 0.38431373],\n",
       "         [0.21568627, 0.30588235, 0.42352941],\n",
       "         ...,\n",
       "         [0.2745098 , 0.33333333, 0.42352941],\n",
       "         [0.04705882, 0.        , 0.        ],\n",
       "         [0.03921569, 0.00392157, 0.00392157]],\n",
       "\n",
       "        [[0.14117647, 0.2627451 , 0.39215686],\n",
       "         [0.19215686, 0.27843137, 0.41176471],\n",
       "         [0.18823529, 0.29803922, 0.41568627],\n",
       "         ...,\n",
       "         [0.14901961, 0.19607843, 0.28235294],\n",
       "         [0.05882353, 0.00392157, 0.00784314],\n",
       "         [0.02352941, 0.        , 0.        ]],\n",
       "\n",
       "        [[0.15686275, 0.2745098 , 0.40392157],\n",
       "         [0.19607843, 0.28627451, 0.40784314],\n",
       "         [0.14117647, 0.29411765, 0.42352941],\n",
       "         ...,\n",
       "         [0.12941176, 0.18431373, 0.25882353],\n",
       "         [0.05098039, 0.        , 0.00392157],\n",
       "         [0.02352941, 0.00392157, 0.00392157]]]])"
      ]
     },
     "execution_count": 4,
     "metadata": {},
     "output_type": "execute_result"
    }
   ],
   "source": [
    "trainX"
   ]
  },
  {
   "cell_type": "code",
   "execution_count": 5,
   "metadata": {},
   "outputs": [
    {
     "data": {
      "text/plain": [
       "(1672, 64, 64, 3)"
      ]
     },
     "execution_count": 5,
     "metadata": {},
     "output_type": "execute_result"
    }
   ],
   "source": [
    "trainX.shape"
   ]
  },
  {
   "cell_type": "code",
   "execution_count": 6,
   "metadata": {},
   "outputs": [
    {
     "data": {
      "text/plain": [
       "array(['Messy_Room', 'Clean_Room', 'Clean_Room', ..., 'Bad_Excuse',\n",
       "       'Messy_Room', 'Messy_Room'], dtype='<U10')"
      ]
     },
     "execution_count": 6,
     "metadata": {},
     "output_type": "execute_result"
    }
   ],
   "source": [
    "trainY"
   ]
  },
  {
   "cell_type": "code",
   "execution_count": 7,
   "metadata": {},
   "outputs": [],
   "source": [
    "# convert the labels from integers/categories to vectors \n",
    "# (for 2-class, binary classification you should use Keras' to_categorical function instead)\n",
    "lb = LabelBinarizer()\n",
    "trainY = lb.fit_transform(trainY)   # fit_transform = find all unique class labels + transform into one-hot encoded labels\n",
    "testY = lb.transform(testY)         # transform = perform the one-hot encoding (unique class labels already found)\n",
    "\n",
    "# This is the categorical vector after transformation\n",
    "# [1, 0, 0] # corresponds to cat\n",
    "# [0, 1, 0] # corresponds to dog\n",
    "# [0, 0, 1] # corresponds to panda"
   ]
  },
  {
   "cell_type": "code",
   "execution_count": 8,
   "metadata": {},
   "outputs": [
    {
     "data": {
      "text/plain": [
       "array([[0, 0, 1],\n",
       "       [0, 1, 0],\n",
       "       [0, 1, 0],\n",
       "       ...,\n",
       "       [1, 0, 0],\n",
       "       [0, 0, 1],\n",
       "       [0, 0, 1]])"
      ]
     },
     "execution_count": 8,
     "metadata": {},
     "output_type": "execute_result"
    }
   ],
   "source": [
    "trainY"
   ]
  },
  {
   "cell_type": "markdown",
   "metadata": {},
   "source": [
    "## Transfer Learning - define neural network architecture"
   ]
  },
  {
   "cell_type": "code",
   "execution_count": 9,
   "metadata": {},
   "outputs": [],
   "source": [
    "import keras\n",
    "from keras.applications.vgg16 import VGG16\n",
    "from keras.applications.imagenet_utils import decode_predictions\n",
    "from keras.layers import Flatten, Dense, Dropout\n",
    "from keras.preprocessing.image import ImageDataGenerator\n",
    "from keras.models import Model"
   ]
  },
  {
   "cell_type": "code",
   "execution_count": 10,
   "metadata": {},
   "outputs": [
    {
     "name": "stdout",
     "output_type": "stream",
     "text": [
      "WARNING:tensorflow:From C:\\Users\\regina\\Desktop\\Metis\\Metis Projects\\Spark\\lib\\site-packages\\keras\\backend\\tensorflow_backend.py:66: The name tf.get_default_graph is deprecated. Please use tf.compat.v1.get_default_graph instead.\n",
      "\n",
      "WARNING:tensorflow:From C:\\Users\\regina\\Desktop\\Metis\\Metis Projects\\Spark\\lib\\site-packages\\keras\\backend\\tensorflow_backend.py:541: The name tf.placeholder is deprecated. Please use tf.compat.v1.placeholder instead.\n",
      "\n",
      "WARNING:tensorflow:From C:\\Users\\regina\\Desktop\\Metis\\Metis Projects\\Spark\\lib\\site-packages\\keras\\backend\\tensorflow_backend.py:4432: The name tf.random_uniform is deprecated. Please use tf.random.uniform instead.\n",
      "\n",
      "WARNING:tensorflow:From C:\\Users\\regina\\Desktop\\Metis\\Metis Projects\\Spark\\lib\\site-packages\\keras\\backend\\tensorflow_backend.py:4267: The name tf.nn.max_pool is deprecated. Please use tf.nn.max_pool2d instead.\n",
      "\n",
      "WARNING:tensorflow:From C:\\Users\\regina\\Desktop\\Metis\\Metis Projects\\Spark\\lib\\site-packages\\keras\\backend\\tensorflow_backend.py:190: The name tf.get_default_session is deprecated. Please use tf.compat.v1.get_default_session instead.\n",
      "\n",
      "WARNING:tensorflow:From C:\\Users\\regina\\Desktop\\Metis\\Metis Projects\\Spark\\lib\\site-packages\\keras\\backend\\tensorflow_backend.py:197: The name tf.ConfigProto is deprecated. Please use tf.compat.v1.ConfigProto instead.\n",
      "\n",
      "WARNING:tensorflow:From C:\\Users\\regina\\Desktop\\Metis\\Metis Projects\\Spark\\lib\\site-packages\\keras\\backend\\tensorflow_backend.py:3733: calling dropout (from tensorflow.python.ops.nn_ops) with keep_prob is deprecated and will be removed in a future version.\n",
      "Instructions for updating:\n",
      "Please use `rate` instead of `keep_prob`. Rate should be set to `rate = 1 - keep_prob`.\n"
     ]
    }
   ],
   "source": [
    "# note we exclude the final dense layers and add one back below, so that we could retrain it ourselves\n",
    "base_model = VGG16(weights='imagenet', include_top=False, input_shape=(64,64,3))   # data images are resized to 64x64\n",
    "\n",
    "# Freeze convolutional layers\n",
    "for layer in base_model.layers:\n",
    "    layer.trainable = False    \n",
    "    \n",
    "x = base_model.output\n",
    "x = Flatten()(x) # flatten from convolution tensor output \n",
    "x = Dense(256, activation='relu')(x)\n",
    "x = Dropout(0.5)(x)\n",
    "x = Dense(32, activation='relu')(x)\n",
    "x = Dropout(0.5)(x)\n",
    "predictions = Dense(3, activation='softmax')(x) # should match number of classes predicted\n",
    "\n",
    "# this is the new model we will train\n",
    "model = Model(inputs=base_model.input, outputs=predictions)"
   ]
  },
  {
   "cell_type": "code",
   "execution_count": 11,
   "metadata": {
    "scrolled": true
   },
   "outputs": [
    {
     "name": "stdout",
     "output_type": "stream",
     "text": [
      "[INFO] training network...\n",
      "WARNING:tensorflow:From C:\\Users\\regina\\Desktop\\Metis\\Metis Projects\\Spark\\lib\\site-packages\\keras\\optimizers.py:793: The name tf.train.Optimizer is deprecated. Please use tf.compat.v1.train.Optimizer instead.\n",
      "\n",
      "WARNING:tensorflow:From C:\\Users\\regina\\Desktop\\Metis\\Metis Projects\\Spark\\lib\\site-packages\\tensorflow\\python\\ops\\math_grad.py:1250: add_dispatch_support.<locals>.wrapper (from tensorflow.python.ops.array_ops) is deprecated and will be removed in a future version.\n",
      "Instructions for updating:\n",
      "Use tf.where in 2.0, which has the same broadcast rule as np.where\n",
      "Epoch 1/75\n",
      "52/52 [==============================] - 28s 537ms/step - loss: 0.9758 - acc: 0.5030 - val_loss: 0.5720 - val_acc: 0.8082\n",
      "Epoch 2/75\n",
      "52/52 [==============================] - 32s 614ms/step - loss: 0.6706 - acc: 0.6833 - val_loss: 0.4333 - val_acc: 0.8656\n",
      "Epoch 3/75\n",
      "52/52 [==============================] - 34s 652ms/step - loss: 0.5599 - acc: 0.7302 - val_loss: 0.4109 - val_acc: 0.8459\n",
      "Epoch 4/75\n",
      "52/52 [==============================] - 34s 648ms/step - loss: 0.5281 - acc: 0.7578 - val_loss: 0.3907 - val_acc: 0.8746\n",
      "Epoch 5/75\n",
      "52/52 [==============================] - 36s 693ms/step - loss: 0.4695 - acc: 0.8005 - val_loss: 0.3227 - val_acc: 0.8907\n",
      "Epoch 6/75\n",
      "52/52 [==============================] - 35s 673ms/step - loss: 0.4322 - acc: 0.8011 - val_loss: 0.3200 - val_acc: 0.8602\n",
      "Epoch 7/75\n",
      "52/52 [==============================] - 35s 674ms/step - loss: 0.4311 - acc: 0.7975 - val_loss: 0.2952 - val_acc: 0.8996\n",
      "Epoch 8/75\n",
      "52/52 [==============================] - 35s 669ms/step - loss: 0.3938 - acc: 0.8245 - val_loss: 0.2809 - val_acc: 0.8907\n",
      "Epoch 9/75\n",
      "52/52 [==============================] - 36s 692ms/step - loss: 0.3731 - acc: 0.8563 - val_loss: 0.2665 - val_acc: 0.8907\n",
      "Epoch 10/75\n",
      "52/52 [==============================] - 36s 699ms/step - loss: 0.3879 - acc: 0.8468 - val_loss: 0.2882 - val_acc: 0.8817\n",
      "Epoch 11/75\n",
      "52/52 [==============================] - 38s 728ms/step - loss: 0.3775 - acc: 0.8228 - val_loss: 0.2551 - val_acc: 0.8943\n",
      "Epoch 12/75\n",
      "52/52 [==============================] - 37s 719ms/step - loss: 0.3472 - acc: 0.8587 - val_loss: 0.2614 - val_acc: 0.8907\n",
      "Epoch 13/75\n",
      "52/52 [==============================] - 38s 740ms/step - loss: 0.3551 - acc: 0.8504 - val_loss: 0.2613 - val_acc: 0.8853\n",
      "Epoch 14/75\n",
      "52/52 [==============================] - 40s 770ms/step - loss: 0.3486 - acc: 0.8672 - val_loss: 0.2450 - val_acc: 0.9032\n",
      "Epoch 15/75\n",
      "52/52 [==============================] - 39s 749ms/step - loss: 0.3700 - acc: 0.8384 - val_loss: 0.2486 - val_acc: 0.8978\n",
      "Epoch 16/75\n",
      "52/52 [==============================] - 40s 774ms/step - loss: 0.3404 - acc: 0.8576 - val_loss: 0.2804 - val_acc: 0.8817\n",
      "Epoch 17/75\n",
      "52/52 [==============================] - 40s 764ms/step - loss: 0.3554 - acc: 0.8419 - val_loss: 0.2534 - val_acc: 0.8961\n",
      "Epoch 18/75\n",
      "52/52 [==============================] - 41s 786ms/step - loss: 0.3237 - acc: 0.8726 - val_loss: 0.2400 - val_acc: 0.9032\n",
      "Epoch 19/75\n",
      "52/52 [==============================] - 42s 815ms/step - loss: 0.3207 - acc: 0.8762 - val_loss: 0.2390 - val_acc: 0.9032\n",
      "Epoch 20/75\n",
      "52/52 [==============================] - 44s 838ms/step - loss: 0.3164 - acc: 0.8708 - val_loss: 0.2346 - val_acc: 0.9032\n",
      "Epoch 21/75\n",
      "52/52 [==============================] - 45s 867ms/step - loss: 0.3143 - acc: 0.8720 - val_loss: 0.2559 - val_acc: 0.8799\n",
      "Epoch 22/75\n",
      "52/52 [==============================] - 47s 899ms/step - loss: 0.2889 - acc: 0.8798 - val_loss: 0.2335 - val_acc: 0.9068\n",
      "Epoch 23/75\n",
      "52/52 [==============================] - 47s 911ms/step - loss: 0.3156 - acc: 0.8762 - val_loss: 0.2427 - val_acc: 0.9050\n",
      "Epoch 24/75\n",
      "52/52 [==============================] - 49s 942ms/step - loss: 0.3164 - acc: 0.8726 - val_loss: 0.2316 - val_acc: 0.9032\n",
      "Epoch 25/75\n",
      "52/52 [==============================] - 52s 1s/step - loss: 0.2955 - acc: 0.8816 - val_loss: 0.2312 - val_acc: 0.8978\n",
      "Epoch 26/75\n",
      "52/52 [==============================] - 53s 1s/step - loss: 0.2875 - acc: 0.8833 - val_loss: 0.2337 - val_acc: 0.8925\n",
      "Epoch 27/75\n",
      "52/52 [==============================] - 56s 1s/step - loss: 0.3117 - acc: 0.8744 - val_loss: 0.2327 - val_acc: 0.9068\n",
      "Epoch 28/75\n",
      "52/52 [==============================] - 53s 1s/step - loss: 0.3140 - acc: 0.8714 - val_loss: 0.2473 - val_acc: 0.8907\n",
      "Epoch 29/75\n",
      "52/52 [==============================] - 52s 1s/step - loss: 0.3035 - acc: 0.8678 - val_loss: 0.2439 - val_acc: 0.9122\n",
      "\n",
      "Epoch 00029: ReduceLROnPlateau reducing learning rate to 0.004999999888241291.\n",
      "Epoch 30/75\n",
      "52/52 [==============================] - 52s 1s/step - loss: 0.2829 - acc: 0.8900 - val_loss: 0.2313 - val_acc: 0.9014\n",
      "Epoch 31/75\n",
      "52/52 [==============================] - 55s 1s/step - loss: 0.2798 - acc: 0.8912 - val_loss: 0.2346 - val_acc: 0.9050\n",
      "Epoch 32/75\n",
      "52/52 [==============================] - 57s 1s/step - loss: 0.2795 - acc: 0.8936 - val_loss: 0.2335 - val_acc: 0.8978\n",
      "Epoch 33/75\n",
      "52/52 [==============================] - 51s 983ms/step - loss: 0.2824 - acc: 0.8889 - val_loss: 0.2338 - val_acc: 0.8996\n",
      "\n",
      "Epoch 00033: ReduceLROnPlateau reducing learning rate to 0.0024999999441206455.\n",
      "Epoch 34/75\n",
      "52/52 [==============================] - 51s 972ms/step - loss: 0.2804 - acc: 0.8817 - val_loss: 0.2406 - val_acc: 0.9068\n",
      "Epoch 35/75\n",
      "52/52 [==============================] - 54s 1s/step - loss: 0.2690 - acc: 0.8882 - val_loss: 0.2331 - val_acc: 0.9014\n",
      "Epoch 36/75\n",
      "52/52 [==============================] - 57s 1s/step - loss: 0.2526 - acc: 0.8978 - val_loss: 0.2330 - val_acc: 0.9068\n",
      "Restoring model weights from the end of the best epoch\n",
      "Epoch 00036: early stopping\n"
     ]
    }
   ],
   "source": [
    "# Construct & initialize the image data generator for data augmentation\n",
    "# Image augmentation allows us to construct “additional” training data from our existing training data \n",
    "# by randomly rotating, shifting, shearing, zooming, and flipping. This is to avoid overfitting.\n",
    "aug = ImageDataGenerator(rotation_range=30, width_shift_range=0.1,\n",
    "                         height_shift_range=0.1, shear_range=0.2, zoom_range=0.2,\n",
    "                         horizontal_flip=True, fill_mode=\"nearest\")\n",
    "\n",
    "# compile & train model\n",
    "# initialize our initial learning rate, # of epochs to train for, and batch size\n",
    "INIT_LR = 0.01\n",
    "EPOCHS = 75\n",
    "BS = 32\n",
    "\n",
    "# initialize the model and optimizer (you'll want to use binary_crossentropy for 2-class classification)\n",
    "print(\"[INFO] training network...\")\n",
    "opt = SGD(lr=INIT_LR, decay=INIT_LR / EPOCHS, momentum=0.2)\n",
    "model.compile(loss=\"categorical_crossentropy\", optimizer=opt, metrics=[\"accuracy\"])\n",
    "\n",
    "# train the network\n",
    "H = model.fit_generator( aug.flow(trainX, trainY, batch_size=BS),\n",
    "                        validation_data=(testX, testY), steps_per_epoch=len(trainX) // BS, epochs=EPOCHS,\n",
    "                        callbacks=[keras.callbacks.EarlyStopping(patience=11, verbose=1, restore_best_weights=True),\n",
    "                                   keras.callbacks.ReduceLROnPlateau(factor=.5, patience=4, verbose=1)] )"
   ]
  },
  {
   "cell_type": "code",
   "execution_count": 12,
   "metadata": {},
   "outputs": [
    {
     "name": "stdout",
     "output_type": "stream",
     "text": [
      "[INFO] evaluating network...\n",
      "              precision    recall  f1-score   support\n",
      "\n",
      "  Bad_Excuse       0.99      0.99      0.99       160\n",
      "  Clean_Room       0.87      0.90      0.88       236\n",
      "  Messy_Room       0.85      0.80      0.83       162\n",
      "\n",
      "    accuracy                           0.90       558\n",
      "   macro avg       0.90      0.90      0.90       558\n",
      "weighted avg       0.90      0.90      0.90       558\n",
      "\n"
     ]
    }
   ],
   "source": [
    "# evaluate the network\n",
    "print(\"[INFO] evaluating network...\")\n",
    "predictions = model.predict(testX, batch_size=32)\n",
    "print(classification_report(testY.argmax(axis=1), predictions.argmax(axis=1), target_names=lb.classes_))"
   ]
  },
  {
   "cell_type": "code",
   "execution_count": null,
   "metadata": {},
   "outputs": [],
   "source": []
  },
  {
   "cell_type": "code",
   "execution_count": 19,
   "metadata": {
    "scrolled": true
   },
   "outputs": [
    {
     "data": {
      "text/plain": [
       "<matplotlib.legend.Legend at 0x1e50067cd88>"
      ]
     },
     "execution_count": 19,
     "metadata": {},
     "output_type": "execute_result"
    },
    {
     "data": {
      "image/png": "[encoded data removed]",
      "text/plain": [
       "<Figure size 576x432 with 1 Axes>"
      ]
     },
     "metadata": {},
     "output_type": "display_data"
    }
   ],
   "source": [
    "# plot the training and validation loss\n",
    "# N = np.arange(0, EPOCHS) \n",
    "N = np.arange(0, 36) # based on EPOCH where early stopping occurs. otherwise take the EPOCH max\n",
    "plt.style.use(\"ggplot\")\n",
    "plt.figure(figsize = [8,6])\n",
    "plt.plot(N, H.history[\"loss\"], label=\"train_loss\")\n",
    "plt.plot(N, H.history[\"val_loss\"], label=\"val_loss\")\n",
    "plt.title(\"Training & Validation Loss (Transfer Learning with VGG16)\")\n",
    "plt.xlabel(\"Epoch #\", weight='bold')\n",
    "plt.ylabel(\"Loss\", weight='bold')\n",
    "plt.legend()"
   ]
  },
  {
   "cell_type": "code",
   "execution_count": 20,
   "metadata": {
    "scrolled": true
   },
   "outputs": [
    {
     "data": {
      "text/plain": [
       "<matplotlib.legend.Legend at 0x1e500702c48>"
      ]
     },
     "execution_count": 20,
     "metadata": {},
     "output_type": "execute_result"
    },
    {
     "data": {
      "image/png": "[encoded data removed]",
      "text/plain": [
       "<Figure size 576x432 with 1 Axes>"
      ]
     },
     "metadata": {},
     "output_type": "display_data"
    }
   ],
   "source": [
    "# plot the training and validation accuracy\n",
    "# N = np.arange(0, EPOCHS) \n",
    "N = np.arange(0, 36) # based on EPOCH where early stopping occurs. otherwise take the EPOCH max\n",
    "plt.style.use(\"ggplot\")\n",
    "plt.figure(figsize = [8,6])\n",
    "plt.plot(N, H.history[\"acc\"], label=\"train_acc\")\n",
    "plt.plot(N, H.history[\"val_acc\"], label=\"val_acc\")\n",
    "plt.title(\"Training and Validation Accuracy (Transfer Learning with VGG16)\")\n",
    "plt.xlabel(\"Epoch #\", weight='bold')\n",
    "plt.ylabel(\"Accuracy\", weight='bold')\n",
    "plt.legend()\n"
   ]
  },
  {
   "cell_type": "markdown",
   "metadata": {},
   "source": [
    "## Save model"
   ]
  },
  {
   "cell_type": "code",
   "execution_count": 21,
   "metadata": {
    "scrolled": true
   },
   "outputs": [
    {
     "name": "stdout",
     "output_type": "stream",
     "text": [
      "Model: \"model_1\"\n",
      "_________________________________________________________________\n",
      "Layer (type)                 Output Shape              Param #   \n",
      "=================================================================\n",
      "input_1 (InputLayer)         (None, 64, 64, 3)         0         \n",
      "_________________________________________________________________\n",
      "block1_conv1 (Conv2D)        (None, 64, 64, 64)        1792      \n",
      "_________________________________________________________________\n",
      "block1_conv2 (Conv2D)        (None, 64, 64, 64)        36928     \n",
      "_________________________________________________________________\n",
      "block1_pool (MaxPooling2D)   (None, 32, 32, 64)        0         \n",
      "_________________________________________________________________\n",
      "block2_conv1 (Conv2D)        (None, 32, 32, 128)       73856     \n",
      "_________________________________________________________________\n",
      "block2_conv2 (Conv2D)        (None, 32, 32, 128)       147584    \n",
      "_________________________________________________________________\n",
      "block2_pool (MaxPooling2D)   (None, 16, 16, 128)       0         \n",
      "_________________________________________________________________\n",
      "block3_conv1 (Conv2D)        (None, 16, 16, 256)       295168    \n",
      "_________________________________________________________________\n",
      "block3_conv2 (Conv2D)        (None, 16, 16, 256)       590080    \n",
      "_________________________________________________________________\n",
      "block3_conv3 (Conv2D)        (None, 16, 16, 256)       590080    \n",
      "_________________________________________________________________\n",
      "block3_pool (MaxPooling2D)   (None, 8, 8, 256)         0         \n",
      "_________________________________________________________________\n",
      "block4_conv1 (Conv2D)        (None, 8, 8, 512)         1180160   \n",
      "_________________________________________________________________\n",
      "block4_conv2 (Conv2D)        (None, 8, 8, 512)         2359808   \n",
      "_________________________________________________________________\n",
      "block4_conv3 (Conv2D)        (None, 8, 8, 512)         2359808   \n",
      "_________________________________________________________________\n",
      "block4_pool (MaxPooling2D)   (None, 4, 4, 512)         0         \n",
      "_________________________________________________________________\n",
      "block5_conv1 (Conv2D)        (None, 4, 4, 512)         2359808   \n",
      "_________________________________________________________________\n",
      "block5_conv2 (Conv2D)        (None, 4, 4, 512)         2359808   \n",
      "_________________________________________________________________\n",
      "block5_conv3 (Conv2D)        (None, 4, 4, 512)         2359808   \n",
      "_________________________________________________________________\n",
      "block5_pool (MaxPooling2D)   (None, 2, 2, 512)         0         \n",
      "_________________________________________________________________\n",
      "flatten_1 (Flatten)          (None, 2048)              0         \n",
      "_________________________________________________________________\n",
      "dense_1 (Dense)              (None, 256)               524544    \n",
      "_________________________________________________________________\n",
      "dropout_1 (Dropout)          (None, 256)               0         \n",
      "_________________________________________________________________\n",
      "dense_2 (Dense)              (None, 32)                8224      \n",
      "_________________________________________________________________\n",
      "dropout_2 (Dropout)          (None, 32)                0         \n",
      "_________________________________________________________________\n",
      "dense_3 (Dense)              (None, 3)                 99        \n",
      "=================================================================\n",
      "Total params: 15,247,555\n",
      "Trainable params: 532,867\n",
      "Non-trainable params: 14,714,688\n",
      "_________________________________________________________________\n"
     ]
    }
   ],
   "source": [
    "model.summary()"
   ]
  },
  {
   "cell_type": "code",
   "execution_count": 30,
   "metadata": {},
   "outputs": [
    {
     "name": "stdout",
     "output_type": "stream",
     "text": [
      "[INFO] serializing network and label binarizer...\n"
     ]
    }
   ],
   "source": [
    "# save the model and label binarizer to disk\n",
    "print(\"[INFO] serializing network and label binarizer...\")\n",
    "model.save('vgg_CNN_trsf_learn_early32_model.h5')\n",
    "f = open('label_bin_trsf_learn_early32.env', \"wb\")\n",
    "f.write(pickle.dumps(lb))\n",
    "f.close()"
   ]
  },
  {
   "cell_type": "markdown",
   "metadata": {},
   "source": [
    "## Make predictions on new data using transfering learning model"
   ]
  },
  {
   "cell_type": "code",
   "execution_count": 43,
   "metadata": {},
   "outputs": [
    {
     "data": {
      "text/plain": [
       "-1"
      ]
     },
     "execution_count": 43,
     "metadata": {},
     "output_type": "execute_result"
    }
   ],
   "source": [
    "# import the necessary packages\n",
    "from keras.models import load_model\n",
    "import pickle\n",
    "import cv2\n",
    "import PIL\n",
    "\n",
    "# load the input image and resize it to the target spatial dimensions\n",
    "width = 64\n",
    "height = 64\n",
    "image = cv2.imread(\"images\\SGStove.jpg\")\n",
    "output = image.copy()\n",
    "image = cv2.resize(image, (width, height))\n",
    "image = np.expand_dims(image, axis=0)   # adjust to (1, 3, 64, 64) for generating keras prediction\n",
    "\n",
    "# # load the model and label binarizer\n",
    "# print(\"[INFO] loading network and label binarizer...\")\n",
    "# model = load_model('transfer_learning_CNN_model')\n",
    "# lb = pickle.loads(open(\"transfer_learning_CNN_model_label_bin\", \"rb\").read())\n",
    "\n",
    "# make a prediction on the image\n",
    "preds = model.predict(image)\n",
    "\n",
    "# find the class label index with the largest corresponding probability\n",
    "i = preds.argmax(axis=1)[0]\n",
    "label = lb.classes_[i]\n",
    "\n",
    "# draw the class label + probability on the output image\n",
    "text = \"{}: {:.1f}%\".format(label, preds[0][i] * 100)\n",
    "cv2.putText(output, text, (10, 30), cv2.FONT_HERSHEY_SIMPLEX, 0.7, (0, 255, 0), 2)\n",
    "\n",
    "# show the output image\n",
    "cv2.imshow(\"Image\", output)\n",
    "cv2.waitKey(0)   # Delay in milliseconds. 0 is the special value that means “forever”, until you close the image window"
   ]
  },
  {
   "cell_type": "code",
   "execution_count": 32,
   "metadata": {},
   "outputs": [
    {
     "data": {
      "text/plain": [
       "1.0"
      ]
     },
     "execution_count": 32,
     "metadata": {},
     "output_type": "execute_result"
    }
   ],
   "source": [
    "preds[0][1]"
   ]
  },
  {
   "cell_type": "code",
   "execution_count": 33,
   "metadata": {},
   "outputs": [
    {
     "data": {
      "text/plain": [
       "'Clean_Room'"
      ]
     },
     "execution_count": 33,
     "metadata": {},
     "output_type": "execute_result"
    }
   ],
   "source": [
    "lb.classes_[1]"
   ]
  },
  {
   "cell_type": "code",
   "execution_count": 34,
   "metadata": {},
   "outputs": [
    {
     "data": {
      "text/plain": [
       "Text(0, 0.5, 'Category')"
      ]
     },
     "execution_count": 34,
     "metadata": {},
     "output_type": "execute_result"
    },
    {
     "data": {
      "image/png": "[encoded data removed]",
      "text/plain": [
       "<Figure size 720x360 with 1 Axes>"
      ]
     },
     "metadata": {},
     "output_type": "display_data"
    }
   ],
   "source": [
    "# plot the prediction probability for each category\n",
    "plt.figure(figsize = [10,5])   # [width, height]\n",
    "\n",
    "x = [ lb.classes_[0], lb.classes_[1], lb.classes_[2] ]\n",
    "y = [ preds[0][0], preds[0][1], preds[0][2] ]\n",
    "plt.barh(x, y, color='orange')\n",
    "\n",
    "ticks_x = np.linspace(0, 1, 11)   # (start, end, number of ticks)\n",
    "plt.xticks(ticks_x, fontsize=10, family='fantasy', color='black')\n",
    "plt.yticks( size=15, color='black' )\n",
    "for i, v in enumerate(y):\n",
    "    plt.text(v, i, \"  \"+str(v.round(2)), color='grey', va='center', fontweight='bold')\n",
    "\n",
    "plt.title('Prediction Probability Transfer Learning with VGG16', family='serif', fontsize=15, style='italic', weight='bold', color='olive', loc='center', rotation=0)\n",
    "plt.xlabel('Probability', fontsize=12, weight='bold', color='blue')\n",
    "plt.ylabel('Category', fontsize=12, weight='bold', color='navy')"
   ]
  },
  {
   "cell_type": "code",
   "execution_count": null,
   "metadata": {},
   "outputs": [],
   "source": []
  },
  {
   "cell_type": "code",
   "execution_count": null,
   "metadata": {},
   "outputs": [],
   "source": []
  }
 ],
 "metadata": {
  "kernelspec": {
   "display_name": "Spark",
   "language": "python",
   "name": "spark"
  },
  "language_info": {
   "codemirror_mode": {
    "name": "ipython",
    "version": 3
   },
   "file_extension": ".py",
   "mimetype": "text/x-python",
   "name": "python",
   "nbconvert_exporter": "python",
   "pygments_lexer": "ipython3",
   "version": "3.7.4"
  }
 },
 "nbformat": 4,
 "nbformat_minor": 2
}
